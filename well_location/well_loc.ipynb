{
 "cells": [
  {
   "cell_type": "markdown",
   "id": "9423bd63",
   "metadata": {
    "toc": true
   },
   "source": [
    "<h1>Выбор локации для скважины<span class=\"tocSkip\"></span></h1>\n",
    "<div class=\"toc\"><ul class=\"toc-item\"><li><span><a href=\"#Загрузка-и-подготовка-данных\" data-toc-modified-id=\"Загрузка-и-подготовка-данных-1\"><span class=\"toc-item-num\">1&nbsp;&nbsp;</span>Загрузка и подготовка данных</a></span></li><li><span><a href=\"#Обучение-и-проверка-модели-для-каждого-региона.\" data-toc-modified-id=\"Обучение-и-проверка-модели-для-каждого-региона.-2\"><span class=\"toc-item-num\">2&nbsp;&nbsp;</span>Обучение и проверка модели для каждого региона.</a></span></li><li><span><a href=\"#Подготовка-данных-к-рассчету-прибыли\" data-toc-modified-id=\"Подготовка-данных-к-рассчету-прибыли-3\"><span class=\"toc-item-num\">3&nbsp;&nbsp;</span>Подготовка данных к рассчету прибыли</a></span></li><li><span><a href=\"#Реализация-функции-для-расчета-прибыли\" data-toc-modified-id=\"Реализация-функции-для-расчета-прибыли-4\"><span class=\"toc-item-num\">4&nbsp;&nbsp;</span>Реализация функции для расчета прибыли</a></span></li><li><span><a href=\"#Расчет-прибыли-и-рисков\" data-toc-modified-id=\"Расчет-прибыли-и-рисков-5\"><span class=\"toc-item-num\">5&nbsp;&nbsp;</span>Расчет прибыли и рисков</a></span><ul class=\"toc-item\"><li><span><a href=\"#example-5\" data-toc-modified-id=\"example-5-5.1\"><span class=\"toc-item-num\">5.1&nbsp;&nbsp;</span>example 5</a></span></li></ul></li><li><span><a href=\"#Вывод\" data-toc-modified-id=\"Вывод-6\"><span class=\"toc-item-num\">6&nbsp;&nbsp;</span>Вывод</a></span></li></ul></div>"
   ]
  },
  {
   "cell_type": "markdown",
   "id": "29d64bf8",
   "metadata": {},
   "source": [
    "**Введение**"
   ]
  },
  {
   "cell_type": "markdown",
   "id": "29db5cd4",
   "metadata": {},
   "source": [
    "Для исследования предоставлены данные проб нефти из трех регионов:\n",
    "\n",
    "* `/datasets/geo_data_0.csv`\n",
    "\n",
    "\n",
    "* `/datasets/geo_data_1.csv`\n",
    "\n",
    "\n",
    "* `/datasets/geo_data_2.csv`\n",
    "    \n",
    "    "
   ]
  },
  {
   "cell_type": "markdown",
   "id": "5716a8ff",
   "metadata": {},
   "source": [
    "**Цель исследования**"
   ]
  },
  {
   "cell_type": "markdown",
   "id": "47b1f5cb",
   "metadata": {},
   "source": [
    "Построить модель для определения региона, где добыча принесёт наибольшую прибыль. Проанализирировать возможную прибыль и риски."
   ]
  },
  {
   "cell_type": "markdown",
   "id": "a2ec99f0",
   "metadata": {},
   "source": [
    "**Ход исследования**"
   ]
  },
  {
   "cell_type": "markdown",
   "id": "55ae4ce5",
   "metadata": {},
   "source": [
    "1. Загрузить и подготовить данные. \n",
    "\n",
    "\n",
    "2. Обучить и проверить модель для каждого региона. \n",
    "\n",
    "\n",
    "3. Подготовить данные к рассчету прибыли.\n",
    "\n",
    "\n",
    "4. Напиcать функцию для расчёта прибыли. \n",
    "\n",
    "\n",
    "5. Посчитать риски и прибыль для каждого региона. \n",
    "\n",
    "\n",
    "6. Написать вывод. "
   ]
  },
  {
   "cell_type": "markdown",
   "id": "170a3cea",
   "metadata": {},
   "source": [
    "**Информация о стоблцах** "
   ]
  },
  {
   "cell_type": "markdown",
   "id": "16583833",
   "metadata": {},
   "source": [
    "* `id` — уникальный идентификатор скважины;\n",
    "\n",
    "\n",
    "* `f0`, `f1`, `f2` — три признака точек (неважно, что они означают, но сами признаки значимы);\n",
    "\n",
    "\n",
    "* `product` — объём запасов в скважине (тыс. баррелей)."
   ]
  },
  {
   "cell_type": "markdown",
   "id": "a0f8f153",
   "metadata": {},
   "source": [
    "## Загрузка и подготовка данных "
   ]
  },
  {
   "cell_type": "markdown",
   "id": "cfa2764c",
   "metadata": {},
   "source": [
    "Подключим все необходимые библиотеки."
   ]
  },
  {
   "cell_type": "code",
   "execution_count": 1,
   "id": "ccea6a97",
   "metadata": {},
   "outputs": [],
   "source": [
    "import os\n",
    "import pandas as pd\n",
    "from sklearn.model_selection import train_test_split\n",
    "from sklearn.linear_model import LinearRegression\n",
    "from sklearn.metrics import mean_squared_error\n",
    "import numpy as np\n",
    "from scipy import stats as st\n",
    "from numpy.random import RandomState\n",
    "state = RandomState(12) "
   ]
  },
  {
   "cell_type": "markdown",
   "id": "0b83eaf5",
   "metadata": {},
   "source": [
    "Выгрузим данные в переменные:\n",
    "    \n",
    "* data_1 – `/datasets/geo_data_0.csv`\n",
    "\n",
    "\n",
    "* data_2 – `/datasets/geo_data_1.csv`\n",
    "\n",
    "\n",
    "* data_3 – `/datasets/geo_data_2.csv`"
   ]
  },
  {
   "cell_type": "code",
   "execution_count": 2,
   "id": "3a36f9a3",
   "metadata": {},
   "outputs": [],
   "source": [
    "pth_1 = '/datasets/geo_data_0.csv'\n",
    "pth_2 = '/datasets/geo_data_1.csv'\n",
    "pth_3 = '/datasets/geo_data_2.csv'\n",
    "\n",
    "pth_1_1 = 'geo_data_0.csv'\n",
    "pth_2_1 = 'geo_data_1.csv'\n",
    "pth_3_1 = 'geo_data_2.csv'\n",
    "\n",
    "if ( os.path.exists(pth_1) and os.path.exists(pth_2) and os.path.exists(pth_3) ):\n",
    "    data_1 = pd.read_csv('/datasets/geo_data_0.csv')\n",
    "    data_2 = pd.read_csv('/datasets/geo_data_1.csv') \n",
    "    data_3 = pd.read_csv('/datasets/geo_data_2.csv')\n",
    "\n",
    "else:\n",
    "    data_1 = pd.read_csv('geo_data_0.csv')\n",
    "    data_2 = pd.read_csv('geo_data_1.csv') \n",
    "    data_3 = pd.read_csv('geo_data_2.csv')"
   ]
  },
  {
   "cell_type": "code",
   "execution_count": 3,
   "id": "738b3081",
   "metadata": {},
   "outputs": [],
   "source": [
    "def head_and_info(data):\n",
    "    display(data.head(5))\n",
    "    data.info()\n",
    "    print(\"\\n-----------------------------------------\")"
   ]
  },
  {
   "cell_type": "code",
   "execution_count": 4,
   "id": "f883fe4a",
   "metadata": {},
   "outputs": [
    {
     "data": {
      "text/html": [
       "<div>\n",
       "<style scoped>\n",
       "    .dataframe tbody tr th:only-of-type {\n",
       "        vertical-align: middle;\n",
       "    }\n",
       "\n",
       "    .dataframe tbody tr th {\n",
       "        vertical-align: top;\n",
       "    }\n",
       "\n",
       "    .dataframe thead th {\n",
       "        text-align: right;\n",
       "    }\n",
       "</style>\n",
       "<table border=\"1\" class=\"dataframe\">\n",
       "  <thead>\n",
       "    <tr style=\"text-align: right;\">\n",
       "      <th></th>\n",
       "      <th>id</th>\n",
       "      <th>f0</th>\n",
       "      <th>f1</th>\n",
       "      <th>f2</th>\n",
       "      <th>product</th>\n",
       "    </tr>\n",
       "  </thead>\n",
       "  <tbody>\n",
       "    <tr>\n",
       "      <th>0</th>\n",
       "      <td>txEyH</td>\n",
       "      <td>0.705745</td>\n",
       "      <td>-0.497823</td>\n",
       "      <td>1.221170</td>\n",
       "      <td>105.280062</td>\n",
       "    </tr>\n",
       "    <tr>\n",
       "      <th>1</th>\n",
       "      <td>2acmU</td>\n",
       "      <td>1.334711</td>\n",
       "      <td>-0.340164</td>\n",
       "      <td>4.365080</td>\n",
       "      <td>73.037750</td>\n",
       "    </tr>\n",
       "    <tr>\n",
       "      <th>2</th>\n",
       "      <td>409Wp</td>\n",
       "      <td>1.022732</td>\n",
       "      <td>0.151990</td>\n",
       "      <td>1.419926</td>\n",
       "      <td>85.265647</td>\n",
       "    </tr>\n",
       "    <tr>\n",
       "      <th>3</th>\n",
       "      <td>iJLyR</td>\n",
       "      <td>-0.032172</td>\n",
       "      <td>0.139033</td>\n",
       "      <td>2.978566</td>\n",
       "      <td>168.620776</td>\n",
       "    </tr>\n",
       "    <tr>\n",
       "      <th>4</th>\n",
       "      <td>Xdl7t</td>\n",
       "      <td>1.988431</td>\n",
       "      <td>0.155413</td>\n",
       "      <td>4.751769</td>\n",
       "      <td>154.036647</td>\n",
       "    </tr>\n",
       "  </tbody>\n",
       "</table>\n",
       "</div>"
      ],
      "text/plain": [
       "      id        f0        f1        f2     product\n",
       "0  txEyH  0.705745 -0.497823  1.221170  105.280062\n",
       "1  2acmU  1.334711 -0.340164  4.365080   73.037750\n",
       "2  409Wp  1.022732  0.151990  1.419926   85.265647\n",
       "3  iJLyR -0.032172  0.139033  2.978566  168.620776\n",
       "4  Xdl7t  1.988431  0.155413  4.751769  154.036647"
      ]
     },
     "metadata": {},
     "output_type": "display_data"
    },
    {
     "name": "stdout",
     "output_type": "stream",
     "text": [
      "<class 'pandas.core.frame.DataFrame'>\n",
      "RangeIndex: 100000 entries, 0 to 99999\n",
      "Data columns (total 5 columns):\n",
      " #   Column   Non-Null Count   Dtype  \n",
      "---  ------   --------------   -----  \n",
      " 0   id       100000 non-null  object \n",
      " 1   f0       100000 non-null  float64\n",
      " 2   f1       100000 non-null  float64\n",
      " 3   f2       100000 non-null  float64\n",
      " 4   product  100000 non-null  float64\n",
      "dtypes: float64(4), object(1)\n",
      "memory usage: 3.8+ MB\n",
      "\n",
      "-----------------------------------------\n"
     ]
    },
    {
     "data": {
      "text/html": [
       "<div>\n",
       "<style scoped>\n",
       "    .dataframe tbody tr th:only-of-type {\n",
       "        vertical-align: middle;\n",
       "    }\n",
       "\n",
       "    .dataframe tbody tr th {\n",
       "        vertical-align: top;\n",
       "    }\n",
       "\n",
       "    .dataframe thead th {\n",
       "        text-align: right;\n",
       "    }\n",
       "</style>\n",
       "<table border=\"1\" class=\"dataframe\">\n",
       "  <thead>\n",
       "    <tr style=\"text-align: right;\">\n",
       "      <th></th>\n",
       "      <th>id</th>\n",
       "      <th>f0</th>\n",
       "      <th>f1</th>\n",
       "      <th>f2</th>\n",
       "      <th>product</th>\n",
       "    </tr>\n",
       "  </thead>\n",
       "  <tbody>\n",
       "    <tr>\n",
       "      <th>0</th>\n",
       "      <td>kBEdx</td>\n",
       "      <td>-15.001348</td>\n",
       "      <td>-8.276000</td>\n",
       "      <td>-0.005876</td>\n",
       "      <td>3.179103</td>\n",
       "    </tr>\n",
       "    <tr>\n",
       "      <th>1</th>\n",
       "      <td>62mP7</td>\n",
       "      <td>14.272088</td>\n",
       "      <td>-3.475083</td>\n",
       "      <td>0.999183</td>\n",
       "      <td>26.953261</td>\n",
       "    </tr>\n",
       "    <tr>\n",
       "      <th>2</th>\n",
       "      <td>vyE1P</td>\n",
       "      <td>6.263187</td>\n",
       "      <td>-5.948386</td>\n",
       "      <td>5.001160</td>\n",
       "      <td>134.766305</td>\n",
       "    </tr>\n",
       "    <tr>\n",
       "      <th>3</th>\n",
       "      <td>KcrkZ</td>\n",
       "      <td>-13.081196</td>\n",
       "      <td>-11.506057</td>\n",
       "      <td>4.999415</td>\n",
       "      <td>137.945408</td>\n",
       "    </tr>\n",
       "    <tr>\n",
       "      <th>4</th>\n",
       "      <td>AHL4O</td>\n",
       "      <td>12.702195</td>\n",
       "      <td>-8.147433</td>\n",
       "      <td>5.004363</td>\n",
       "      <td>134.766305</td>\n",
       "    </tr>\n",
       "  </tbody>\n",
       "</table>\n",
       "</div>"
      ],
      "text/plain": [
       "      id         f0         f1        f2     product\n",
       "0  kBEdx -15.001348  -8.276000 -0.005876    3.179103\n",
       "1  62mP7  14.272088  -3.475083  0.999183   26.953261\n",
       "2  vyE1P   6.263187  -5.948386  5.001160  134.766305\n",
       "3  KcrkZ -13.081196 -11.506057  4.999415  137.945408\n",
       "4  AHL4O  12.702195  -8.147433  5.004363  134.766305"
      ]
     },
     "metadata": {},
     "output_type": "display_data"
    },
    {
     "name": "stdout",
     "output_type": "stream",
     "text": [
      "<class 'pandas.core.frame.DataFrame'>\n",
      "RangeIndex: 100000 entries, 0 to 99999\n",
      "Data columns (total 5 columns):\n",
      " #   Column   Non-Null Count   Dtype  \n",
      "---  ------   --------------   -----  \n",
      " 0   id       100000 non-null  object \n",
      " 1   f0       100000 non-null  float64\n",
      " 2   f1       100000 non-null  float64\n",
      " 3   f2       100000 non-null  float64\n",
      " 4   product  100000 non-null  float64\n",
      "dtypes: float64(4), object(1)\n",
      "memory usage: 3.8+ MB\n",
      "\n",
      "-----------------------------------------\n"
     ]
    },
    {
     "data": {
      "text/html": [
       "<div>\n",
       "<style scoped>\n",
       "    .dataframe tbody tr th:only-of-type {\n",
       "        vertical-align: middle;\n",
       "    }\n",
       "\n",
       "    .dataframe tbody tr th {\n",
       "        vertical-align: top;\n",
       "    }\n",
       "\n",
       "    .dataframe thead th {\n",
       "        text-align: right;\n",
       "    }\n",
       "</style>\n",
       "<table border=\"1\" class=\"dataframe\">\n",
       "  <thead>\n",
       "    <tr style=\"text-align: right;\">\n",
       "      <th></th>\n",
       "      <th>id</th>\n",
       "      <th>f0</th>\n",
       "      <th>f1</th>\n",
       "      <th>f2</th>\n",
       "      <th>product</th>\n",
       "    </tr>\n",
       "  </thead>\n",
       "  <tbody>\n",
       "    <tr>\n",
       "      <th>0</th>\n",
       "      <td>fwXo0</td>\n",
       "      <td>-1.146987</td>\n",
       "      <td>0.963328</td>\n",
       "      <td>-0.828965</td>\n",
       "      <td>27.758673</td>\n",
       "    </tr>\n",
       "    <tr>\n",
       "      <th>1</th>\n",
       "      <td>WJtFt</td>\n",
       "      <td>0.262778</td>\n",
       "      <td>0.269839</td>\n",
       "      <td>-2.530187</td>\n",
       "      <td>56.069697</td>\n",
       "    </tr>\n",
       "    <tr>\n",
       "      <th>2</th>\n",
       "      <td>ovLUW</td>\n",
       "      <td>0.194587</td>\n",
       "      <td>0.289035</td>\n",
       "      <td>-5.586433</td>\n",
       "      <td>62.871910</td>\n",
       "    </tr>\n",
       "    <tr>\n",
       "      <th>3</th>\n",
       "      <td>q6cA6</td>\n",
       "      <td>2.236060</td>\n",
       "      <td>-0.553760</td>\n",
       "      <td>0.930038</td>\n",
       "      <td>114.572842</td>\n",
       "    </tr>\n",
       "    <tr>\n",
       "      <th>4</th>\n",
       "      <td>WPMUX</td>\n",
       "      <td>-0.515993</td>\n",
       "      <td>1.716266</td>\n",
       "      <td>5.899011</td>\n",
       "      <td>149.600746</td>\n",
       "    </tr>\n",
       "  </tbody>\n",
       "</table>\n",
       "</div>"
      ],
      "text/plain": [
       "      id        f0        f1        f2     product\n",
       "0  fwXo0 -1.146987  0.963328 -0.828965   27.758673\n",
       "1  WJtFt  0.262778  0.269839 -2.530187   56.069697\n",
       "2  ovLUW  0.194587  0.289035 -5.586433   62.871910\n",
       "3  q6cA6  2.236060 -0.553760  0.930038  114.572842\n",
       "4  WPMUX -0.515993  1.716266  5.899011  149.600746"
      ]
     },
     "metadata": {},
     "output_type": "display_data"
    },
    {
     "name": "stdout",
     "output_type": "stream",
     "text": [
      "<class 'pandas.core.frame.DataFrame'>\n",
      "RangeIndex: 100000 entries, 0 to 99999\n",
      "Data columns (total 5 columns):\n",
      " #   Column   Non-Null Count   Dtype  \n",
      "---  ------   --------------   -----  \n",
      " 0   id       100000 non-null  object \n",
      " 1   f0       100000 non-null  float64\n",
      " 2   f1       100000 non-null  float64\n",
      " 3   f2       100000 non-null  float64\n",
      " 4   product  100000 non-null  float64\n",
      "dtypes: float64(4), object(1)\n",
      "memory usage: 3.8+ MB\n",
      "\n",
      "-----------------------------------------\n"
     ]
    }
   ],
   "source": [
    "head_and_info(data_1)\n",
    "head_and_info(data_2)\n",
    "head_and_info(data_3)"
   ]
  },
  {
   "cell_type": "code",
   "execution_count": 5,
   "id": "c6bb61de",
   "metadata": {},
   "outputs": [
    {
     "data": {
      "text/html": [
       "<div>\n",
       "<style scoped>\n",
       "    .dataframe tbody tr th:only-of-type {\n",
       "        vertical-align: middle;\n",
       "    }\n",
       "\n",
       "    .dataframe tbody tr th {\n",
       "        vertical-align: top;\n",
       "    }\n",
       "\n",
       "    .dataframe thead th {\n",
       "        text-align: right;\n",
       "    }\n",
       "</style>\n",
       "<table border=\"1\" class=\"dataframe\">\n",
       "  <thead>\n",
       "    <tr style=\"text-align: right;\">\n",
       "      <th></th>\n",
       "      <th>id</th>\n",
       "      <th>f0</th>\n",
       "      <th>f1</th>\n",
       "      <th>f2</th>\n",
       "      <th>product</th>\n",
       "    </tr>\n",
       "  </thead>\n",
       "  <tbody>\n",
       "    <tr>\n",
       "      <th>0</th>\n",
       "      <td>kBEdx</td>\n",
       "      <td>-15.001348</td>\n",
       "      <td>-8.276000</td>\n",
       "      <td>-0.005876</td>\n",
       "      <td>3.179103</td>\n",
       "    </tr>\n",
       "    <tr>\n",
       "      <th>1</th>\n",
       "      <td>62mP7</td>\n",
       "      <td>14.272088</td>\n",
       "      <td>-3.475083</td>\n",
       "      <td>0.999183</td>\n",
       "      <td>26.953261</td>\n",
       "    </tr>\n",
       "    <tr>\n",
       "      <th>2</th>\n",
       "      <td>vyE1P</td>\n",
       "      <td>6.263187</td>\n",
       "      <td>-5.948386</td>\n",
       "      <td>5.001160</td>\n",
       "      <td>134.766305</td>\n",
       "    </tr>\n",
       "    <tr>\n",
       "      <th>3</th>\n",
       "      <td>KcrkZ</td>\n",
       "      <td>-13.081196</td>\n",
       "      <td>-11.506057</td>\n",
       "      <td>4.999415</td>\n",
       "      <td>137.945408</td>\n",
       "    </tr>\n",
       "    <tr>\n",
       "      <th>4</th>\n",
       "      <td>AHL4O</td>\n",
       "      <td>12.702195</td>\n",
       "      <td>-8.147433</td>\n",
       "      <td>5.004363</td>\n",
       "      <td>134.766305</td>\n",
       "    </tr>\n",
       "  </tbody>\n",
       "</table>\n",
       "</div>"
      ],
      "text/plain": [
       "      id         f0         f1        f2     product\n",
       "0  kBEdx -15.001348  -8.276000 -0.005876    3.179103\n",
       "1  62mP7  14.272088  -3.475083  0.999183   26.953261\n",
       "2  vyE1P   6.263187  -5.948386  5.001160  134.766305\n",
       "3  KcrkZ -13.081196 -11.506057  4.999415  137.945408\n",
       "4  AHL4O  12.702195  -8.147433  5.004363  134.766305"
      ]
     },
     "metadata": {},
     "output_type": "display_data"
    }
   ],
   "source": [
    "display(data_2.head(5))"
   ]
  },
  {
   "cell_type": "code",
   "execution_count": 6,
   "id": "8f951d59",
   "metadata": {},
   "outputs": [
    {
     "data": {
      "text/html": [
       "<div>\n",
       "<style scoped>\n",
       "    .dataframe tbody tr th:only-of-type {\n",
       "        vertical-align: middle;\n",
       "    }\n",
       "\n",
       "    .dataframe tbody tr th {\n",
       "        vertical-align: top;\n",
       "    }\n",
       "\n",
       "    .dataframe thead th {\n",
       "        text-align: right;\n",
       "    }\n",
       "</style>\n",
       "<table border=\"1\" class=\"dataframe\">\n",
       "  <thead>\n",
       "    <tr style=\"text-align: right;\">\n",
       "      <th></th>\n",
       "      <th>id</th>\n",
       "      <th>f0</th>\n",
       "      <th>f1</th>\n",
       "      <th>f2</th>\n",
       "      <th>product</th>\n",
       "    </tr>\n",
       "  </thead>\n",
       "  <tbody>\n",
       "    <tr>\n",
       "      <th>0</th>\n",
       "      <td>fwXo0</td>\n",
       "      <td>-1.146987</td>\n",
       "      <td>0.963328</td>\n",
       "      <td>-0.828965</td>\n",
       "      <td>27.758673</td>\n",
       "    </tr>\n",
       "    <tr>\n",
       "      <th>1</th>\n",
       "      <td>WJtFt</td>\n",
       "      <td>0.262778</td>\n",
       "      <td>0.269839</td>\n",
       "      <td>-2.530187</td>\n",
       "      <td>56.069697</td>\n",
       "    </tr>\n",
       "    <tr>\n",
       "      <th>2</th>\n",
       "      <td>ovLUW</td>\n",
       "      <td>0.194587</td>\n",
       "      <td>0.289035</td>\n",
       "      <td>-5.586433</td>\n",
       "      <td>62.871910</td>\n",
       "    </tr>\n",
       "    <tr>\n",
       "      <th>3</th>\n",
       "      <td>q6cA6</td>\n",
       "      <td>2.236060</td>\n",
       "      <td>-0.553760</td>\n",
       "      <td>0.930038</td>\n",
       "      <td>114.572842</td>\n",
       "    </tr>\n",
       "    <tr>\n",
       "      <th>4</th>\n",
       "      <td>WPMUX</td>\n",
       "      <td>-0.515993</td>\n",
       "      <td>1.716266</td>\n",
       "      <td>5.899011</td>\n",
       "      <td>149.600746</td>\n",
       "    </tr>\n",
       "  </tbody>\n",
       "</table>\n",
       "</div>"
      ],
      "text/plain": [
       "      id        f0        f1        f2     product\n",
       "0  fwXo0 -1.146987  0.963328 -0.828965   27.758673\n",
       "1  WJtFt  0.262778  0.269839 -2.530187   56.069697\n",
       "2  ovLUW  0.194587  0.289035 -5.586433   62.871910\n",
       "3  q6cA6  2.236060 -0.553760  0.930038  114.572842\n",
       "4  WPMUX -0.515993  1.716266  5.899011  149.600746"
      ]
     },
     "metadata": {},
     "output_type": "display_data"
    }
   ],
   "source": [
    "display(data_3.head(5))"
   ]
  },
  {
   "cell_type": "markdown",
   "id": "16597361",
   "metadata": {},
   "source": [
    "**Промежуточный вывод:** \n"
   ]
  },
  {
   "cell_type": "markdown",
   "id": "3c47d11c",
   "metadata": {},
   "source": [
    "* Данные выгружены корректно.\n",
    "\n",
    "* Типы данных – коректны. \n",
    "\n",
    "* Пропуски – отсутствуют.\n",
    "\n",
    "* Столбцы приведены к нижнему регистру. "
   ]
  },
  {
   "cell_type": "markdown",
   "id": "502e9b05",
   "metadata": {},
   "source": [
    "**Промежуточный вывод**: данные выгружены корректно."
   ]
  },
  {
   "cell_type": "markdown",
   "id": "72df5c47",
   "metadata": {},
   "source": [
    "Проверим данные на наличие дубликатов."
   ]
  },
  {
   "cell_type": "code",
   "execution_count": 7,
   "id": "029efc62",
   "metadata": {},
   "outputs": [
    {
     "name": "stdout",
     "output_type": "stream",
     "text": [
      "Количество дубликатов в data_1: 0\n",
      "Количество дубликатов в data_2: 0\n",
      "Количество дубликатов в data_3: 0\n"
     ]
    }
   ],
   "source": [
    "for data, n in zip([data_1, data_2, data_3], range(1,4)):\n",
    "    print(f'Количество дубликатов в data_{n}: {data.duplicated().sum()}')"
   ]
  },
  {
   "cell_type": "markdown",
   "id": "9ae4cb37",
   "metadata": {},
   "source": [
    "Выведем информацию о данных."
   ]
  },
  {
   "cell_type": "code",
   "execution_count": 8,
   "id": "8126ffc1",
   "metadata": {},
   "outputs": [
    {
     "name": "stdout",
     "output_type": "stream",
     "text": [
      "<class 'pandas.core.frame.DataFrame'>\n",
      "RangeIndex: 100000 entries, 0 to 99999\n",
      "Data columns (total 5 columns):\n",
      " #   Column   Non-Null Count   Dtype  \n",
      "---  ------   --------------   -----  \n",
      " 0   id       100000 non-null  object \n",
      " 1   f0       100000 non-null  float64\n",
      " 2   f1       100000 non-null  float64\n",
      " 3   f2       100000 non-null  float64\n",
      " 4   product  100000 non-null  float64\n",
      "dtypes: float64(4), object(1)\n",
      "memory usage: 3.8+ MB\n"
     ]
    }
   ],
   "source": [
    "data_1.info()"
   ]
  },
  {
   "cell_type": "code",
   "execution_count": 9,
   "id": "31b6abbd",
   "metadata": {},
   "outputs": [
    {
     "name": "stdout",
     "output_type": "stream",
     "text": [
      "<class 'pandas.core.frame.DataFrame'>\n",
      "RangeIndex: 100000 entries, 0 to 99999\n",
      "Data columns (total 5 columns):\n",
      " #   Column   Non-Null Count   Dtype  \n",
      "---  ------   --------------   -----  \n",
      " 0   id       100000 non-null  object \n",
      " 1   f0       100000 non-null  float64\n",
      " 2   f1       100000 non-null  float64\n",
      " 3   f2       100000 non-null  float64\n",
      " 4   product  100000 non-null  float64\n",
      "dtypes: float64(4), object(1)\n",
      "memory usage: 3.8+ MB\n"
     ]
    }
   ],
   "source": [
    "data_2.info()"
   ]
  },
  {
   "cell_type": "code",
   "execution_count": 10,
   "id": "bfd82c36",
   "metadata": {
    "scrolled": true
   },
   "outputs": [
    {
     "name": "stdout",
     "output_type": "stream",
     "text": [
      "<class 'pandas.core.frame.DataFrame'>\n",
      "RangeIndex: 100000 entries, 0 to 99999\n",
      "Data columns (total 5 columns):\n",
      " #   Column   Non-Null Count   Dtype  \n",
      "---  ------   --------------   -----  \n",
      " 0   id       100000 non-null  object \n",
      " 1   f0       100000 non-null  float64\n",
      " 2   f1       100000 non-null  float64\n",
      " 3   f2       100000 non-null  float64\n",
      " 4   product  100000 non-null  float64\n",
      "dtypes: float64(4), object(1)\n",
      "memory usage: 3.8+ MB\n"
     ]
    }
   ],
   "source": [
    "data_3.info()"
   ]
  },
  {
   "cell_type": "markdown",
   "id": "39256c71",
   "metadata": {},
   "source": [
    "Проверим столбец `id` на уникальность.  "
   ]
  },
  {
   "cell_type": "code",
   "execution_count": 11,
   "id": "fd1f1753",
   "metadata": {},
   "outputs": [
    {
     "data": {
      "text/plain": [
       "<bound method Series.unique of 0        txEyH\n",
       "1        2acmU\n",
       "2        409Wp\n",
       "3        iJLyR\n",
       "4        Xdl7t\n",
       "         ...  \n",
       "99995    DLsed\n",
       "99996    QKivN\n",
       "99997    3rnvd\n",
       "99998    7kl59\n",
       "99999    1CWhH\n",
       "Name: id, Length: 100000, dtype: object>"
      ]
     },
     "metadata": {},
     "output_type": "display_data"
    },
    {
     "data": {
      "text/plain": [
       "<bound method Series.unique of 0        kBEdx\n",
       "1        62mP7\n",
       "2        vyE1P\n",
       "3        KcrkZ\n",
       "4        AHL4O\n",
       "         ...  \n",
       "99995    QywKC\n",
       "99996    ptvty\n",
       "99997    09gWa\n",
       "99998    rqwUm\n",
       "99999    relB0\n",
       "Name: id, Length: 100000, dtype: object>"
      ]
     },
     "metadata": {},
     "output_type": "display_data"
    },
    {
     "data": {
      "text/plain": [
       "<bound method Series.unique of 0        fwXo0\n",
       "1        WJtFt\n",
       "2        ovLUW\n",
       "3        q6cA6\n",
       "4        WPMUX\n",
       "         ...  \n",
       "99995    4GxBu\n",
       "99996    YKFjq\n",
       "99997    tKPY3\n",
       "99998    nmxp2\n",
       "99999    V9kWn\n",
       "Name: id, Length: 100000, dtype: object>"
      ]
     },
     "metadata": {},
     "output_type": "display_data"
    }
   ],
   "source": [
    "display(data_1['id'].unique)\n",
    "display(data_2['id'].unique)\n",
    "display(data_3['id'].unique)"
   ]
  },
  {
   "cell_type": "markdown",
   "id": "3a341317",
   "metadata": {},
   "source": [
    "**Промежуточный вывод:**"
   ]
  },
  {
   "cell_type": "markdown",
   "id": "c16c4f5b",
   "metadata": {},
   "source": [
    "Дубликаты и повторения отсутсвуют. "
   ]
  },
  {
   "cell_type": "markdown",
   "id": "350a24c4",
   "metadata": {},
   "source": [
    "**Подготовка данных** "
   ]
  },
  {
   "cell_type": "markdown",
   "id": "82d75dd6",
   "metadata": {},
   "source": [
    "Выведем данные."
   ]
  },
  {
   "cell_type": "code",
   "execution_count": 12,
   "id": "a9c0d5c5",
   "metadata": {
    "scrolled": false
   },
   "outputs": [
    {
     "data": {
      "text/html": [
       "<div>\n",
       "<style scoped>\n",
       "    .dataframe tbody tr th:only-of-type {\n",
       "        vertical-align: middle;\n",
       "    }\n",
       "\n",
       "    .dataframe tbody tr th {\n",
       "        vertical-align: top;\n",
       "    }\n",
       "\n",
       "    .dataframe thead th {\n",
       "        text-align: right;\n",
       "    }\n",
       "</style>\n",
       "<table border=\"1\" class=\"dataframe\">\n",
       "  <thead>\n",
       "    <tr style=\"text-align: right;\">\n",
       "      <th></th>\n",
       "      <th>id</th>\n",
       "      <th>f0</th>\n",
       "      <th>f1</th>\n",
       "      <th>f2</th>\n",
       "      <th>product</th>\n",
       "    </tr>\n",
       "  </thead>\n",
       "  <tbody>\n",
       "    <tr>\n",
       "      <th>0</th>\n",
       "      <td>txEyH</td>\n",
       "      <td>0.705745</td>\n",
       "      <td>-0.497823</td>\n",
       "      <td>1.221170</td>\n",
       "      <td>105.280062</td>\n",
       "    </tr>\n",
       "    <tr>\n",
       "      <th>1</th>\n",
       "      <td>2acmU</td>\n",
       "      <td>1.334711</td>\n",
       "      <td>-0.340164</td>\n",
       "      <td>4.365080</td>\n",
       "      <td>73.037750</td>\n",
       "    </tr>\n",
       "    <tr>\n",
       "      <th>2</th>\n",
       "      <td>409Wp</td>\n",
       "      <td>1.022732</td>\n",
       "      <td>0.151990</td>\n",
       "      <td>1.419926</td>\n",
       "      <td>85.265647</td>\n",
       "    </tr>\n",
       "    <tr>\n",
       "      <th>3</th>\n",
       "      <td>iJLyR</td>\n",
       "      <td>-0.032172</td>\n",
       "      <td>0.139033</td>\n",
       "      <td>2.978566</td>\n",
       "      <td>168.620776</td>\n",
       "    </tr>\n",
       "    <tr>\n",
       "      <th>4</th>\n",
       "      <td>Xdl7t</td>\n",
       "      <td>1.988431</td>\n",
       "      <td>0.155413</td>\n",
       "      <td>4.751769</td>\n",
       "      <td>154.036647</td>\n",
       "    </tr>\n",
       "  </tbody>\n",
       "</table>\n",
       "</div>"
      ],
      "text/plain": [
       "      id        f0        f1        f2     product\n",
       "0  txEyH  0.705745 -0.497823  1.221170  105.280062\n",
       "1  2acmU  1.334711 -0.340164  4.365080   73.037750\n",
       "2  409Wp  1.022732  0.151990  1.419926   85.265647\n",
       "3  iJLyR -0.032172  0.139033  2.978566  168.620776\n",
       "4  Xdl7t  1.988431  0.155413  4.751769  154.036647"
      ]
     },
     "metadata": {},
     "output_type": "display_data"
    },
    {
     "data": {
      "text/html": [
       "<div>\n",
       "<style scoped>\n",
       "    .dataframe tbody tr th:only-of-type {\n",
       "        vertical-align: middle;\n",
       "    }\n",
       "\n",
       "    .dataframe tbody tr th {\n",
       "        vertical-align: top;\n",
       "    }\n",
       "\n",
       "    .dataframe thead th {\n",
       "        text-align: right;\n",
       "    }\n",
       "</style>\n",
       "<table border=\"1\" class=\"dataframe\">\n",
       "  <thead>\n",
       "    <tr style=\"text-align: right;\">\n",
       "      <th></th>\n",
       "      <th>id</th>\n",
       "      <th>f0</th>\n",
       "      <th>f1</th>\n",
       "      <th>f2</th>\n",
       "      <th>product</th>\n",
       "    </tr>\n",
       "  </thead>\n",
       "  <tbody>\n",
       "    <tr>\n",
       "      <th>0</th>\n",
       "      <td>kBEdx</td>\n",
       "      <td>-15.001348</td>\n",
       "      <td>-8.276000</td>\n",
       "      <td>-0.005876</td>\n",
       "      <td>3.179103</td>\n",
       "    </tr>\n",
       "    <tr>\n",
       "      <th>1</th>\n",
       "      <td>62mP7</td>\n",
       "      <td>14.272088</td>\n",
       "      <td>-3.475083</td>\n",
       "      <td>0.999183</td>\n",
       "      <td>26.953261</td>\n",
       "    </tr>\n",
       "    <tr>\n",
       "      <th>2</th>\n",
       "      <td>vyE1P</td>\n",
       "      <td>6.263187</td>\n",
       "      <td>-5.948386</td>\n",
       "      <td>5.001160</td>\n",
       "      <td>134.766305</td>\n",
       "    </tr>\n",
       "    <tr>\n",
       "      <th>3</th>\n",
       "      <td>KcrkZ</td>\n",
       "      <td>-13.081196</td>\n",
       "      <td>-11.506057</td>\n",
       "      <td>4.999415</td>\n",
       "      <td>137.945408</td>\n",
       "    </tr>\n",
       "    <tr>\n",
       "      <th>4</th>\n",
       "      <td>AHL4O</td>\n",
       "      <td>12.702195</td>\n",
       "      <td>-8.147433</td>\n",
       "      <td>5.004363</td>\n",
       "      <td>134.766305</td>\n",
       "    </tr>\n",
       "  </tbody>\n",
       "</table>\n",
       "</div>"
      ],
      "text/plain": [
       "      id         f0         f1        f2     product\n",
       "0  kBEdx -15.001348  -8.276000 -0.005876    3.179103\n",
       "1  62mP7  14.272088  -3.475083  0.999183   26.953261\n",
       "2  vyE1P   6.263187  -5.948386  5.001160  134.766305\n",
       "3  KcrkZ -13.081196 -11.506057  4.999415  137.945408\n",
       "4  AHL4O  12.702195  -8.147433  5.004363  134.766305"
      ]
     },
     "metadata": {},
     "output_type": "display_data"
    },
    {
     "data": {
      "text/html": [
       "<div>\n",
       "<style scoped>\n",
       "    .dataframe tbody tr th:only-of-type {\n",
       "        vertical-align: middle;\n",
       "    }\n",
       "\n",
       "    .dataframe tbody tr th {\n",
       "        vertical-align: top;\n",
       "    }\n",
       "\n",
       "    .dataframe thead th {\n",
       "        text-align: right;\n",
       "    }\n",
       "</style>\n",
       "<table border=\"1\" class=\"dataframe\">\n",
       "  <thead>\n",
       "    <tr style=\"text-align: right;\">\n",
       "      <th></th>\n",
       "      <th>id</th>\n",
       "      <th>f0</th>\n",
       "      <th>f1</th>\n",
       "      <th>f2</th>\n",
       "      <th>product</th>\n",
       "    </tr>\n",
       "  </thead>\n",
       "  <tbody>\n",
       "    <tr>\n",
       "      <th>0</th>\n",
       "      <td>fwXo0</td>\n",
       "      <td>-1.146987</td>\n",
       "      <td>0.963328</td>\n",
       "      <td>-0.828965</td>\n",
       "      <td>27.758673</td>\n",
       "    </tr>\n",
       "    <tr>\n",
       "      <th>1</th>\n",
       "      <td>WJtFt</td>\n",
       "      <td>0.262778</td>\n",
       "      <td>0.269839</td>\n",
       "      <td>-2.530187</td>\n",
       "      <td>56.069697</td>\n",
       "    </tr>\n",
       "    <tr>\n",
       "      <th>2</th>\n",
       "      <td>ovLUW</td>\n",
       "      <td>0.194587</td>\n",
       "      <td>0.289035</td>\n",
       "      <td>-5.586433</td>\n",
       "      <td>62.871910</td>\n",
       "    </tr>\n",
       "    <tr>\n",
       "      <th>3</th>\n",
       "      <td>q6cA6</td>\n",
       "      <td>2.236060</td>\n",
       "      <td>-0.553760</td>\n",
       "      <td>0.930038</td>\n",
       "      <td>114.572842</td>\n",
       "    </tr>\n",
       "    <tr>\n",
       "      <th>4</th>\n",
       "      <td>WPMUX</td>\n",
       "      <td>-0.515993</td>\n",
       "      <td>1.716266</td>\n",
       "      <td>5.899011</td>\n",
       "      <td>149.600746</td>\n",
       "    </tr>\n",
       "  </tbody>\n",
       "</table>\n",
       "</div>"
      ],
      "text/plain": [
       "      id        f0        f1        f2     product\n",
       "0  fwXo0 -1.146987  0.963328 -0.828965   27.758673\n",
       "1  WJtFt  0.262778  0.269839 -2.530187   56.069697\n",
       "2  ovLUW  0.194587  0.289035 -5.586433   62.871910\n",
       "3  q6cA6  2.236060 -0.553760  0.930038  114.572842\n",
       "4  WPMUX -0.515993  1.716266  5.899011  149.600746"
      ]
     },
     "metadata": {},
     "output_type": "display_data"
    }
   ],
   "source": [
    "display(data_1.head(5))\n",
    "display(data_2.head(5))\n",
    "display(data_3.head(5))"
   ]
  },
  {
   "cell_type": "markdown",
   "id": "09bd02d2",
   "metadata": {},
   "source": [
    "Видно, что необходимо избавиться от столбца `id`, так как при обучении он будет сбивать модель."
   ]
  },
  {
   "cell_type": "code",
   "execution_count": 13,
   "id": "9357d9de",
   "metadata": {
    "scrolled": true
   },
   "outputs": [],
   "source": [
    "data_1 = data_1.drop('id', axis = 1)\n",
    "data_2 = data_2.drop('id', axis = 1)\n",
    "data_3 = data_3.drop('id', axis = 1)"
   ]
  },
  {
   "cell_type": "markdown",
   "id": "e3bf2639",
   "metadata": {},
   "source": [
    "Проверим признаки на наличие мультиколлинеарность."
   ]
  },
  {
   "cell_type": "code",
   "execution_count": 14,
   "id": "5fbcd199",
   "metadata": {},
   "outputs": [
    {
     "data": {
      "text/html": [
       "<div>\n",
       "<style scoped>\n",
       "    .dataframe tbody tr th:only-of-type {\n",
       "        vertical-align: middle;\n",
       "    }\n",
       "\n",
       "    .dataframe tbody tr th {\n",
       "        vertical-align: top;\n",
       "    }\n",
       "\n",
       "    .dataframe thead th {\n",
       "        text-align: right;\n",
       "    }\n",
       "</style>\n",
       "<table border=\"1\" class=\"dataframe\">\n",
       "  <thead>\n",
       "    <tr style=\"text-align: right;\">\n",
       "      <th></th>\n",
       "      <th>f0</th>\n",
       "      <th>f1</th>\n",
       "      <th>f2</th>\n",
       "      <th>product</th>\n",
       "    </tr>\n",
       "  </thead>\n",
       "  <tbody>\n",
       "    <tr>\n",
       "      <th>f0</th>\n",
       "      <td>1.000000</td>\n",
       "      <td>-0.440723</td>\n",
       "      <td>-0.003153</td>\n",
       "      <td>0.143536</td>\n",
       "    </tr>\n",
       "    <tr>\n",
       "      <th>f1</th>\n",
       "      <td>-0.440723</td>\n",
       "      <td>1.000000</td>\n",
       "      <td>0.001724</td>\n",
       "      <td>-0.192356</td>\n",
       "    </tr>\n",
       "    <tr>\n",
       "      <th>f2</th>\n",
       "      <td>-0.003153</td>\n",
       "      <td>0.001724</td>\n",
       "      <td>1.000000</td>\n",
       "      <td>0.483663</td>\n",
       "    </tr>\n",
       "    <tr>\n",
       "      <th>product</th>\n",
       "      <td>0.143536</td>\n",
       "      <td>-0.192356</td>\n",
       "      <td>0.483663</td>\n",
       "      <td>1.000000</td>\n",
       "    </tr>\n",
       "  </tbody>\n",
       "</table>\n",
       "</div>"
      ],
      "text/plain": [
       "               f0        f1        f2   product\n",
       "f0       1.000000 -0.440723 -0.003153  0.143536\n",
       "f1      -0.440723  1.000000  0.001724 -0.192356\n",
       "f2      -0.003153  0.001724  1.000000  0.483663\n",
       "product  0.143536 -0.192356  0.483663  1.000000"
      ]
     },
     "metadata": {},
     "output_type": "display_data"
    },
    {
     "data": {
      "text/html": [
       "<div>\n",
       "<style scoped>\n",
       "    .dataframe tbody tr th:only-of-type {\n",
       "        vertical-align: middle;\n",
       "    }\n",
       "\n",
       "    .dataframe tbody tr th {\n",
       "        vertical-align: top;\n",
       "    }\n",
       "\n",
       "    .dataframe thead th {\n",
       "        text-align: right;\n",
       "    }\n",
       "</style>\n",
       "<table border=\"1\" class=\"dataframe\">\n",
       "  <thead>\n",
       "    <tr style=\"text-align: right;\">\n",
       "      <th></th>\n",
       "      <th>f0</th>\n",
       "      <th>f1</th>\n",
       "      <th>f2</th>\n",
       "      <th>product</th>\n",
       "    </tr>\n",
       "  </thead>\n",
       "  <tbody>\n",
       "    <tr>\n",
       "      <th>f0</th>\n",
       "      <td>1.000000</td>\n",
       "      <td>0.182287</td>\n",
       "      <td>-0.001777</td>\n",
       "      <td>-0.030491</td>\n",
       "    </tr>\n",
       "    <tr>\n",
       "      <th>f1</th>\n",
       "      <td>0.182287</td>\n",
       "      <td>1.000000</td>\n",
       "      <td>-0.002595</td>\n",
       "      <td>-0.010155</td>\n",
       "    </tr>\n",
       "    <tr>\n",
       "      <th>f2</th>\n",
       "      <td>-0.001777</td>\n",
       "      <td>-0.002595</td>\n",
       "      <td>1.000000</td>\n",
       "      <td>0.999397</td>\n",
       "    </tr>\n",
       "    <tr>\n",
       "      <th>product</th>\n",
       "      <td>-0.030491</td>\n",
       "      <td>-0.010155</td>\n",
       "      <td>0.999397</td>\n",
       "      <td>1.000000</td>\n",
       "    </tr>\n",
       "  </tbody>\n",
       "</table>\n",
       "</div>"
      ],
      "text/plain": [
       "               f0        f1        f2   product\n",
       "f0       1.000000  0.182287 -0.001777 -0.030491\n",
       "f1       0.182287  1.000000 -0.002595 -0.010155\n",
       "f2      -0.001777 -0.002595  1.000000  0.999397\n",
       "product -0.030491 -0.010155  0.999397  1.000000"
      ]
     },
     "metadata": {},
     "output_type": "display_data"
    },
    {
     "data": {
      "text/html": [
       "<div>\n",
       "<style scoped>\n",
       "    .dataframe tbody tr th:only-of-type {\n",
       "        vertical-align: middle;\n",
       "    }\n",
       "\n",
       "    .dataframe tbody tr th {\n",
       "        vertical-align: top;\n",
       "    }\n",
       "\n",
       "    .dataframe thead th {\n",
       "        text-align: right;\n",
       "    }\n",
       "</style>\n",
       "<table border=\"1\" class=\"dataframe\">\n",
       "  <thead>\n",
       "    <tr style=\"text-align: right;\">\n",
       "      <th></th>\n",
       "      <th>f0</th>\n",
       "      <th>f1</th>\n",
       "      <th>f2</th>\n",
       "      <th>product</th>\n",
       "    </tr>\n",
       "  </thead>\n",
       "  <tbody>\n",
       "    <tr>\n",
       "      <th>f0</th>\n",
       "      <td>1.000000</td>\n",
       "      <td>0.000528</td>\n",
       "      <td>-0.000448</td>\n",
       "      <td>-0.001987</td>\n",
       "    </tr>\n",
       "    <tr>\n",
       "      <th>f1</th>\n",
       "      <td>0.000528</td>\n",
       "      <td>1.000000</td>\n",
       "      <td>0.000779</td>\n",
       "      <td>-0.001012</td>\n",
       "    </tr>\n",
       "    <tr>\n",
       "      <th>f2</th>\n",
       "      <td>-0.000448</td>\n",
       "      <td>0.000779</td>\n",
       "      <td>1.000000</td>\n",
       "      <td>0.445871</td>\n",
       "    </tr>\n",
       "    <tr>\n",
       "      <th>product</th>\n",
       "      <td>-0.001987</td>\n",
       "      <td>-0.001012</td>\n",
       "      <td>0.445871</td>\n",
       "      <td>1.000000</td>\n",
       "    </tr>\n",
       "  </tbody>\n",
       "</table>\n",
       "</div>"
      ],
      "text/plain": [
       "               f0        f1        f2   product\n",
       "f0       1.000000  0.000528 -0.000448 -0.001987\n",
       "f1       0.000528  1.000000  0.000779 -0.001012\n",
       "f2      -0.000448  0.000779  1.000000  0.445871\n",
       "product -0.001987 -0.001012  0.445871  1.000000"
      ]
     },
     "metadata": {},
     "output_type": "display_data"
    }
   ],
   "source": [
    "display(data_1.corr())\n",
    "display(data_2.corr())\n",
    "display(data_3.corr())"
   ]
  },
  {
   "cell_type": "markdown",
   "id": "2054a25a",
   "metadata": {},
   "source": [
    "Мультиколлинеарность –  `отсутствует `. "
   ]
  },
  {
   "cell_type": "markdown",
   "id": "3aceb5f8",
   "metadata": {},
   "source": [
    "**Общий вывод:**"
   ]
  },
  {
   "cell_type": "markdown",
   "id": "076a0aa9",
   "metadata": {},
   "source": [
    "В ходе обработки и загрузки данных, были выполнены следующие пукты: \n",
    "\n",
    "* Корректно выгружены все необходимые данные.\n",
    "\n",
    "* Проверены тип, дубликаты, регистр и пропуски в столбцах. \n",
    "\n",
    "* Удалены неинформативные столбцы. \n",
    "\n",
    "* Зафиксирована уникальность столбца `id`.\n",
    "\n",
    "* Утсановлен факт остутсвия  `мультиколлинеарности`"
   ]
  },
  {
   "cell_type": "markdown",
   "id": "bf619775",
   "metadata": {},
   "source": [
    "## Обучение и проверка модели для каждого региона. "
   ]
  },
  {
   "cell_type": "markdown",
   "id": "a66393f7",
   "metadata": {},
   "source": [
    "Разделим данные на `обучающую` и `валидационную` выборки."
   ]
  },
  {
   "cell_type": "code",
   "execution_count": 15,
   "id": "89afacf0",
   "metadata": {},
   "outputs": [],
   "source": [
    "data_1_train, \n",
    "data_1_valid, \n",
    "data_2_train, \n",
    "data_2_valid, \n",
    "data_3_train, \n",
    "data_3_valid = train_test_split(data_1, \n",
    "                                data_2, \n",
    "                                data_3, \n",
    "                                test_size=0.25, \n",
    "                                random_state=state)\n",
    "\n",
    "\n",
    "features_1_train = data_1_train.drop('product', axis = 1)\n",
    "target_1_train = data_1_train['product']\n",
    "features_1_valid = data_1_valid.drop('product', axis = 1)\n",
    "target_1_valid = data_1_valid['product']\n",
    "\n",
    "features_2_train = data_2_train.drop('product', axis = 1)\n",
    "target_2_train = data_2_train['product']\n",
    "features_2_valid = data_2_valid.drop('product', axis = 1)\n",
    "target_2_valid = data_2_valid['product']\n",
    "\n",
    "features_3_train = data_3_train.drop('product', axis = 1)\n",
    "target_3_train = data_3_train['product']\n",
    "features_3_valid = data_3_valid.drop('product', axis = 1)\n",
    "target_3_valid = data_3_valid['product']"
   ]
  },
  {
   "cell_type": "markdown",
   "id": "13d1cdd6",
   "metadata": {},
   "source": [
    "Обучим модель **LinearRegression** и сохраним предсказания для каждого региона.  "
   ]
  },
  {
   "cell_type": "code",
   "execution_count": 16,
   "id": "37c89032",
   "metadata": {},
   "outputs": [],
   "source": [
    "model = LinearRegression()\n",
    "    \n",
    "model.fit(features_1_train, target_1_train)\n",
    "predictions_1 = model.predict(features_1_valid)\n",
    "\n",
    "model.fit(features_2_train, target_2_train)\n",
    "predictions_2 = model.predict(features_2_valid)\n",
    "\n",
    "model.fit(features_3_train, target_3_train)\n",
    "predictions_3 = model.predict(features_3_valid)"
   ]
  },
  {
   "cell_type": "markdown",
   "id": "67d9e5d1",
   "metadata": {},
   "source": [
    "Найдем средний запас предсказанного сырья и RMSE модели для кадого региона."
   ]
  },
  {
   "cell_type": "markdown",
   "id": "14799426",
   "metadata": {},
   "source": [
    "**RMSE**"
   ]
  },
  {
   "cell_type": "code",
   "execution_count": 17,
   "id": "ce346d3f",
   "metadata": {},
   "outputs": [
    {
     "name": "stdout",
     "output_type": "stream",
     "text": [
      "RMSE for data_1: 37.78806596603057\n",
      "RMSE for data_2: 0.8885339556138786\n",
      "RMSE for data_3: 39.800203117903365\n"
     ]
    }
   ],
   "source": [
    "print(f'RMSE for data_1: {mean_squared_error(target_1_valid,predictions_1)**0.5}')\n",
    "print(f'RMSE for data_2: {mean_squared_error(target_2_valid,predictions_2)**0.5}')\n",
    "print(f'RMSE for data_3: {mean_squared_error(target_3_valid ,predictions_3)**0.5}')"
   ]
  },
  {
   "cell_type": "markdown",
   "id": "65020839",
   "metadata": {},
   "source": [
    "**Средний запас предсказанного сырья**"
   ]
  },
  {
   "cell_type": "code",
   "execution_count": 18,
   "id": "e20a4861",
   "metadata": {},
   "outputs": [
    {
     "name": "stdout",
     "output_type": "stream",
     "text": [
      "data_1: 92.13368147346338\n",
      "data_2: 69.0378932957214\n",
      "data_3: 95.05096092338655\n"
     ]
    }
   ],
   "source": [
    "print(f'data_1: {predictions_1.mean()}')\n",
    "print(f'data_2: {predictions_2.mean()}')\n",
    "print(f'data_3: {predictions_3.mean()}')"
   ]
  },
  {
   "cell_type": "markdown",
   "id": "18738b1c",
   "metadata": {},
   "source": [
    "**Общий вывод:** "
   ]
  },
  {
   "cell_type": "markdown",
   "id": "6ec0898b",
   "metadata": {},
   "source": [
    "В ходе обучения были получены значение `RMSE` для каждого региона: \n",
    "\n",
    "* RMSE for data_1: 37.5794217150813\n",
    "\n",
    "* RMSE for data_2: 0.8930992867756166\n",
    "\n",
    "* RMSE for data_3: 40.02970873393434\n",
    "\n",
    "Видно, что *средняя квадратическая ошибка* у региона `data_1` и `data_3` почти одинаковые, а у `data_2` меньше единицы, что говорит о почти полностью точных предсказаниях модели.\n",
    "\n",
    "\n",
    "Также, был рассчитан *средний запас предсказанного сырья*:\n",
    "\n",
    "* data_1: 92.59256778438035\n",
    "* data_2: 68.728546895446\n",
    "* data_3: 94.96504596800492\n",
    "\n",
    "Видно, что в регионах `data_1` и `data_2` намного больше запасов сырья чем в `data_2`. "
   ]
  },
  {
   "cell_type": "markdown",
   "id": "8289d85e",
   "metadata": {},
   "source": [
    "## Подготовка данных к рассчету прибыли"
   ]
  },
  {
   "cell_type": "markdown",
   "id": "f889e6e6",
   "metadata": {},
   "source": [
    "Подготовим все необходимые переменные для рассчета прибыли:\n",
    "\n",
    "* budget = 10 млд. \n",
    "\n",
    "* sump(необходимое количество скважин) = 200\n",
    "\n",
    "* cost_per_bar = 450\n",
    "\n",
    "\n",
    "* product - ?"
   ]
  },
  {
   "cell_type": "code",
   "execution_count": 19,
   "id": "f7027e3a",
   "metadata": {},
   "outputs": [],
   "source": [
    "BUDJET = 10_000_000_000\n",
    "INCOME_PER_BARREL = 450_000\n",
    "SUMP = 200"
   ]
  },
  {
   "cell_type": "markdown",
   "id": "02f2514e",
   "metadata": {},
   "source": [
    "Рассчитаем достаточный объем сырья для безубыточной разработки новой скважины."
   ]
  },
  {
   "cell_type": "code",
   "execution_count": 20,
   "id": "3accc97b",
   "metadata": {},
   "outputs": [
    {
     "name": "stdout",
     "output_type": "stream",
     "text": [
      "111 тыс.\n"
     ]
    }
   ],
   "source": [
    "PRODUCT = round(BUDJET / (SUMP * INCOME_PER_BARREL))\n",
    "print(f'{PRODUCT} тыс.')"
   ]
  },
  {
   "cell_type": "markdown",
   "id": "31ae25cb",
   "metadata": {},
   "source": [
    "Следовательно, для безубыточной работы скважины необходимо, чтобы она приносила `111` тыс. бар. "
   ]
  },
  {
   "cell_type": "markdown",
   "id": "e7706493",
   "metadata": {},
   "source": [
    "Сравним полученный объем сырья со средним запасом в каждом регионе."
   ]
  },
  {
   "cell_type": "code",
   "execution_count": 21,
   "id": "a43db9f5",
   "metadata": {},
   "outputs": [
    {
     "name": "stdout",
     "output_type": "stream",
     "text": [
      "92.50000000000001\n",
      "68.82500000000002\n",
      "95.00000000000004\n"
     ]
    }
   ],
   "source": [
    "print(data_1['product'].mean())\n",
    "print(data_2['product'].mean())\n",
    "print(data_3['product'].mean())"
   ]
  },
  {
   "cell_type": "markdown",
   "id": "00aaba7a",
   "metadata": {},
   "source": [
    "**Общий вывод:**"
   ]
  },
  {
   "cell_type": "markdown",
   "id": "afd4b45c",
   "metadata": {},
   "source": [
    "В ходе работы была найдена необходимая велична для безубыточной работы скважины – `111` тыс. бар."
   ]
  },
  {
   "cell_type": "markdown",
   "id": "16c383c5",
   "metadata": {},
   "source": [
    "Средний запас в каждом регионе: \n",
    "\n",
    "* data_1 = 92.49999999999974\n",
    "\n",
    "* data_2 = 68.82500000002561\n",
    "\n",
    "* data_3 = 95.00000000000041"
   ]
  },
  {
   "cell_type": "markdown",
   "id": "816613e6",
   "metadata": {},
   "source": [
    "Видно, что средний запас сырья в каждом регионе – меньше необходимого для безубыточной работы."
   ]
  },
  {
   "cell_type": "markdown",
   "id": "250a951c",
   "metadata": {},
   "source": [
    "## Реализация функции для расчета прибыли"
   ]
  },
  {
   "cell_type": "markdown",
   "id": "54298c15",
   "metadata": {},
   "source": [
    "Напишем функцию для реализации расчета прибыли."
   ]
  },
  {
   "cell_type": "code",
   "execution_count": 22,
   "id": "935e5b2b",
   "metadata": {},
   "outputs": [],
   "source": [
    "predictions_1 = pd.Series(predictions_1)\n",
    "predictions_2 = pd.Series(predictions_2)\n",
    "predictions_3 = pd.Series(predictions_3)\n",
    "\n",
    "target_1_valid = target_1_valid.reset_index(drop = True)\n",
    "target_2_valid = target_2_valid.reset_index(drop = True)\n",
    "target_3_valid = target_3_valid.reset_index(drop = True)"
   ]
  },
  {
   "cell_type": "code",
   "execution_count": 23,
   "id": "d5ae5c76",
   "metadata": {},
   "outputs": [],
   "source": [
    "def profit(predictions, target, SUMP):\n",
    "    top_preds = predictions.sort_values(ascending=False)\n",
    "    top_target = target[top_preds.index][:SUMP]\n",
    "    revenue = top_target.sum() * INCOME_PER_BARREL\n",
    "    return revenue - BUDJET"
   ]
  },
  {
   "cell_type": "markdown",
   "id": "77dba09d",
   "metadata": {},
   "source": [
    "Воспользуемся фунцией для каждого региона. "
   ]
  },
  {
   "cell_type": "code",
   "execution_count": 24,
   "id": "a911a778",
   "metadata": {},
   "outputs": [
    {
     "name": "stdout",
     "output_type": "stream",
     "text": [
      "Region 1:\n",
      "\n",
      "-----------------------------------------\n",
      "Mean: 3418631960.7177105\n",
      "-----------------------------------------\n",
      "\n",
      "\n",
      "Region 2:\n",
      "\n",
      "-----------------------------------------\n",
      "Mean: 2415086696.681511\n",
      "-----------------------------------------\n",
      "\n",
      "\n",
      "Region 3:\n",
      "\n",
      "-----------------------------------------\n",
      "Mean: 2549949202.100603\n",
      "-----------------------------------------\n",
      "\n",
      "\n"
     ]
    }
   ],
   "source": [
    "for preds, target, i in zip([predictions_1, predictions_2, predictions_3], \n",
    "                            [target_1_valid, target_2_valid, target_3_valid],\n",
    "                            [1,2,3]):\n",
    "    print(f\"Region {i}:\")\n",
    "    print(\"\\n-----------------------------------------\")\n",
    "    print(f'Mean: {profit(preds, target, SUMP)}')\n",
    "    print(\"-----------------------------------------\\n\\n\")"
   ]
  },
  {
   "cell_type": "markdown",
   "id": "c731627d",
   "metadata": {},
   "source": [
    "## Расчет прибыли и рисков"
   ]
  },
  {
   "cell_type": "markdown",
   "id": "3a460331",
   "metadata": {},
   "source": [
    "### example 5"
   ]
  },
  {
   "cell_type": "markdown",
   "id": "2c1f1b0e",
   "metadata": {},
   "source": [
    "Посчитав риски и прибыль для каждого региона, применив технику `Bootstrap` с `1000` выборок."
   ]
  },
  {
   "cell_type": "code",
   "execution_count": 26,
   "id": "1f5e2686",
   "metadata": {},
   "outputs": [],
   "source": [
    "state = RandomState(12) \n",
    "def find_conf_interval_and_loss_risk(predictions, target):\n",
    "    revenue = []\n",
    "    for _ in range(1000):\n",
    "        target_sample = target.sample(500, replace=True, random_state=state)\n",
    "        predictions_sample = predictions[target_sample.index]\n",
    "        revenue.append(profit(predictions_sample, target_sample, SUMP))\n",
    "        \n",
    "    lower = int(np.percentile(revenue, 2.5))\n",
    "    higher = int(np.percentile(revenue, 97.5))\n",
    "    mean_revenue = int(sum(revenue) / len(revenue))\n",
    "    risk = st.percentileofscore(revenue, 0)\n",
    "\n",
    "    return ((lower, higher), mean_revenue, risk)"
   ]
  },
  {
   "cell_type": "code",
   "execution_count": 27,
   "id": "fac4572c",
   "metadata": {},
   "outputs": [
    {
     "name": "stdout",
     "output_type": "stream",
     "text": [
      "Region 1:\n",
      "\n",
      "-----------------------------------------\n",
      "Mean: 475541876\n",
      "95% confidence interval: (-50083021, 1008353695)\n",
      "Risk of loss: 3.9000000000000004\n",
      "-----------------------------------------\n",
      "\n",
      "\n",
      "Region 2:\n",
      "\n",
      "-----------------------------------------\n",
      "Mean: 538007940\n",
      "95% confidence interval: (133808296, 965199255)\n",
      "Risk of loss: 0.30000000000000004\n",
      "-----------------------------------------\n",
      "\n",
      "\n",
      "Region 3:\n",
      "\n",
      "-----------------------------------------\n",
      "Mean: 370412660\n",
      "95% confidence interval: (-152777383, 916584603)\n",
      "Risk of loss: 9.0\n",
      "-----------------------------------------\n",
      "\n",
      "\n"
     ]
    }
   ],
   "source": [
    "for preds, target, i in zip([predictions_1, predictions_2, predictions_3], \n",
    "                            [target_1_valid, target_2_valid, target_3_valid],\n",
    "                            [1,2,3]):\n",
    "    \n",
    "    interval, mean_revenue, risk = find_conf_interval_and_loss_risk(preds, target)\n",
    "    print(f\"Region {i}:\")\n",
    "    print(\"\\n-----------------------------------------\")\n",
    "    print(f\"Mean: {mean_revenue}\")\n",
    "    print(f\"95% confidence interval: {interval}\")\n",
    "    print(f\"Risk of loss: {risk}\")\n",
    "    print(\"-----------------------------------------\\n\\n\")"
   ]
  },
  {
   "cell_type": "markdown",
   "id": "d21c61e2",
   "metadata": {},
   "source": [
    "## Вывод"
   ]
  },
  {
   "cell_type": "markdown",
   "id": "1e3438c9",
   "metadata": {},
   "source": [
    "В ходе работы были выполнены следующие пункты: \n",
    "\n",
    "\n",
    "1. Загружены и подготовленны данные\n",
    "\n",
    "    * Корректно выгружены все необходимые данные.\n",
    "\n",
    "    * Проверены тип, дубликаты, регистр и пропуски в столбцах. \n",
    "\n",
    "    * Удалены неинформативные столбцы. \n",
    "\n",
    "    * Зафиксирована уникальность столбца `id`.\n",
    "\n",
    "    * Утсановлен факт остутсвия  `мультиколлинеарности`"
   ]
  },
  {
   "cell_type": "markdown",
   "id": "77a3b99d",
   "metadata": {},
   "source": [
    "2. Обучена и проверена модель для каждого региона\n",
    "\n",
    "    В ходе обучения были получены значение `RMSE` для каждого региона: \n",
    "\n",
    "    * RMSE for data_1: 37.5794217150813\n",
    "\n",
    "    * RMSE for data_2: 0.8930992867756166\n",
    "\n",
    "    * RMSE for data_3: 40.02970873393434\n",
    "\n",
    "    Видно, что *средняя квадратическая ошибка* у региона `data_1` и `data_3` почти одинаковые, а у `data_2` меньше единицы,         что говорит о почти полностью точных предсказаниях модели.\n",
    "\n",
    "    Также, был рассчитан *средний запас предсказанного сырья*:\n",
    "\n",
    "   * data_1: 92.59256778438035 \n",
    "    \n",
    "   * data_2: 68.728546895446 \n",
    "    \n",
    "   * data_3: 94.96504596800492\n",
    "    \n",
    "   Видно, что в регионах `data_1` и `data_2` намного больше запасов сырья чем в `data_2`"
   ]
  },
  {
   "cell_type": "markdown",
   "id": "603cbae9",
   "metadata": {},
   "source": [
    "3. Рассчитан достаточный объем сырья для безубыточной разработки новой скважины.\n",
    "\n",
    "  * `111` тыс. бар."
   ]
  },
  {
   "cell_type": "markdown",
   "id": "3828484d",
   "metadata": {},
   "source": [
    "4. Реализована функции для расчета прибыли"
   ]
  },
  {
   "cell_type": "markdown",
   "id": "cd25cc95",
   "metadata": {},
   "source": [
    "5. Рассчитана прибыль и риски для каждого региона. \n",
    "\n",
    "**Region 1:**\n",
    "\n",
    "-----------------------------------------\n",
    "Mean: 419930177;\n",
    "95% confidence interval: (-141110488, 956814437);\n",
    "Risk of loss: 7.5\n",
    "-----------------------------------------\n",
    "\n",
    "\n",
    "**Region 2:**\n",
    "\n",
    "-----------------------------------------\n",
    "Mean: 516594341;\n",
    "95% confidence interval: (116606932, 930743658);\n",
    "Risk of loss: 1.1\n",
    "-----------------------------------------\n",
    "\n",
    "\n",
    "**Region 3:**\n",
    "\n",
    "-----------------------------------------\n",
    "Mean: 407869169;\n",
    "95% confidence interval: (-145646379, 986581470);\n",
    "Risk of loss: 8.3\n",
    "-----------------------------------------"
   ]
  },
  {
   "cell_type": "markdown",
   "id": "e7fbaf79",
   "metadata": {},
   "source": [
    "Следовательно, из последнего пункта можно сделать итоговый вывод, что лучше всего подходит **`REGION 1`**, так как имеет минимальные риски и высокую среднюю прибыль, относительно других регионов."
   ]
  }
 ],
 "metadata": {
  "ExecuteTimeLog": [
   {
    "duration": 1518,
    "start_time": "2023-02-27T18:04:36.761Z"
   },
   {
    "duration": 117,
    "start_time": "2023-02-27T18:04:38.281Z"
   },
   {
    "duration": 0,
    "start_time": "2023-02-27T18:04:38.400Z"
   },
   {
    "duration": 0,
    "start_time": "2023-02-27T18:04:38.401Z"
   },
   {
    "duration": 0,
    "start_time": "2023-02-27T18:04:38.402Z"
   },
   {
    "duration": 0,
    "start_time": "2023-02-27T18:04:38.403Z"
   },
   {
    "duration": 0,
    "start_time": "2023-02-27T18:04:38.404Z"
   },
   {
    "duration": 0,
    "start_time": "2023-02-27T18:04:38.405Z"
   },
   {
    "duration": 0,
    "start_time": "2023-02-27T18:04:38.406Z"
   },
   {
    "duration": 0,
    "start_time": "2023-02-27T18:04:38.407Z"
   },
   {
    "duration": 0,
    "start_time": "2023-02-27T18:04:38.408Z"
   },
   {
    "duration": 0,
    "start_time": "2023-02-27T18:04:38.409Z"
   },
   {
    "duration": 0,
    "start_time": "2023-02-27T18:04:38.410Z"
   },
   {
    "duration": 0,
    "start_time": "2023-02-27T18:04:38.411Z"
   },
   {
    "duration": 0,
    "start_time": "2023-02-27T18:04:38.412Z"
   },
   {
    "duration": 0,
    "start_time": "2023-02-27T18:04:38.413Z"
   },
   {
    "duration": 0,
    "start_time": "2023-02-27T18:04:38.414Z"
   },
   {
    "duration": 0,
    "start_time": "2023-02-27T18:04:38.414Z"
   },
   {
    "duration": 0,
    "start_time": "2023-02-27T18:04:38.415Z"
   },
   {
    "duration": 0,
    "start_time": "2023-02-27T18:04:38.416Z"
   },
   {
    "duration": 0,
    "start_time": "2023-02-27T18:04:38.419Z"
   },
   {
    "duration": 0,
    "start_time": "2023-02-27T18:04:38.420Z"
   },
   {
    "duration": 0,
    "start_time": "2023-02-27T18:04:38.420Z"
   },
   {
    "duration": 1521,
    "start_time": "2023-02-27T18:05:43.686Z"
   },
   {
    "duration": 380,
    "start_time": "2023-02-27T18:05:45.208Z"
   },
   {
    "duration": 23,
    "start_time": "2023-02-27T18:05:45.591Z"
   },
   {
    "duration": 22,
    "start_time": "2023-02-27T18:05:45.617Z"
   },
   {
    "duration": 19,
    "start_time": "2023-02-27T18:05:45.640Z"
   },
   {
    "duration": 31,
    "start_time": "2023-02-27T18:05:45.661Z"
   },
   {
    "duration": 26,
    "start_time": "2023-02-27T18:05:45.694Z"
   },
   {
    "duration": 27,
    "start_time": "2023-02-27T18:05:45.722Z"
   },
   {
    "duration": 184,
    "start_time": "2023-02-27T18:05:45.751Z"
   },
   {
    "duration": 22,
    "start_time": "2023-02-27T18:05:45.939Z"
   },
   {
    "duration": 31,
    "start_time": "2023-02-27T18:05:45.962Z"
   },
   {
    "duration": 44,
    "start_time": "2023-02-27T18:05:45.994Z"
   },
   {
    "duration": 60,
    "start_time": "2023-02-27T18:05:46.039Z"
   },
   {
    "duration": 6,
    "start_time": "2023-02-27T18:05:46.186Z"
   },
   {
    "duration": 94,
    "start_time": "2023-02-27T18:05:46.194Z"
   },
   {
    "duration": 22,
    "start_time": "2023-02-27T18:05:46.290Z"
   },
   {
    "duration": 12,
    "start_time": "2023-02-27T18:05:46.313Z"
   },
   {
    "duration": 10,
    "start_time": "2023-02-27T18:05:46.327Z"
   },
   {
    "duration": 11,
    "start_time": "2023-02-27T18:05:46.339Z"
   },
   {
    "duration": 13,
    "start_time": "2023-02-27T18:05:46.351Z"
   },
   {
    "duration": 22,
    "start_time": "2023-02-27T18:05:46.366Z"
   },
   {
    "duration": 4,
    "start_time": "2023-02-27T18:05:46.389Z"
   },
   {
    "duration": 104,
    "start_time": "2023-02-27T18:05:46.394Z"
   },
   {
    "duration": 62,
    "start_time": "2023-02-27T20:34:03.445Z"
   },
   {
    "duration": 4,
    "start_time": "2023-02-27T20:34:09.335Z"
   },
   {
    "duration": 9,
    "start_time": "2023-02-27T20:34:09.716Z"
   },
   {
    "duration": 1116,
    "start_time": "2023-02-27T20:34:18.431Z"
   },
   {
    "duration": 1906,
    "start_time": "2023-02-27T20:34:20.492Z"
   },
   {
    "duration": 3,
    "start_time": "2023-02-27T20:34:22.400Z"
   },
   {
    "duration": 31,
    "start_time": "2023-02-27T20:34:22.405Z"
   },
   {
    "duration": 16,
    "start_time": "2023-02-27T20:34:33.996Z"
   },
   {
    "duration": 5,
    "start_time": "2023-02-27T20:34:53.871Z"
   },
   {
    "duration": 22,
    "start_time": "2023-02-27T20:34:54.677Z"
   },
   {
    "duration": 3,
    "start_time": "2023-02-27T20:35:00.933Z"
   },
   {
    "duration": 34,
    "start_time": "2023-02-27T20:35:01.348Z"
   },
   {
    "duration": 4,
    "start_time": "2023-02-27T20:35:11.480Z"
   },
   {
    "duration": 21,
    "start_time": "2023-02-27T20:35:12.618Z"
   },
   {
    "duration": 51,
    "start_time": "2023-02-27T20:35:26.184Z"
   },
   {
    "duration": 99,
    "start_time": "2023-02-27T20:39:35.401Z"
   },
   {
    "duration": 7,
    "start_time": "2023-02-27T20:40:54.925Z"
   },
   {
    "duration": 76,
    "start_time": "2023-02-27T20:41:03.296Z"
   },
   {
    "duration": 8,
    "start_time": "2023-02-27T20:41:06.108Z"
   },
   {
    "duration": 8,
    "start_time": "2023-02-27T20:41:12.570Z"
   },
   {
    "duration": 11,
    "start_time": "2023-02-27T20:41:15.362Z"
   },
   {
    "duration": 5,
    "start_time": "2023-02-27T20:42:30.231Z"
   },
   {
    "duration": 7,
    "start_time": "2023-02-27T20:42:41.036Z"
   },
   {
    "duration": 4,
    "start_time": "2023-02-27T20:43:02.870Z"
   },
   {
    "duration": 9,
    "start_time": "2023-02-27T20:43:07.669Z"
   },
   {
    "duration": 10,
    "start_time": "2023-02-27T20:43:17.743Z"
   },
   {
    "duration": 7,
    "start_time": "2023-02-27T20:43:32.204Z"
   },
   {
    "duration": 6,
    "start_time": "2023-02-27T20:43:47.796Z"
   },
   {
    "duration": 18,
    "start_time": "2023-02-27T20:44:01.700Z"
   },
   {
    "duration": 122,
    "start_time": "2023-02-27T20:44:38.012Z"
   },
   {
    "duration": 17,
    "start_time": "2023-02-27T20:44:44.842Z"
   },
   {
    "duration": 17,
    "start_time": "2023-02-27T20:45:36.786Z"
   },
   {
    "duration": 34,
    "start_time": "2023-02-27T20:46:12.231Z"
   },
   {
    "duration": 15,
    "start_time": "2023-02-27T20:46:16.080Z"
   },
   {
    "duration": 23,
    "start_time": "2023-02-27T20:48:32.816Z"
   },
   {
    "duration": 19,
    "start_time": "2023-02-27T20:48:46.476Z"
   },
   {
    "duration": 29,
    "start_time": "2023-02-27T20:49:45.134Z"
   },
   {
    "duration": 106,
    "start_time": "2023-02-27T20:51:42.207Z"
   },
   {
    "duration": 10,
    "start_time": "2023-02-27T20:53:14.173Z"
   },
   {
    "duration": 23,
    "start_time": "2023-02-27T20:53:18.189Z"
   },
   {
    "duration": 56,
    "start_time": "2023-02-27T20:53:27.648Z"
   },
   {
    "duration": 10,
    "start_time": "2023-02-27T20:57:31.973Z"
   },
   {
    "duration": 2806,
    "start_time": "2023-02-27T20:57:34.893Z"
   },
   {
    "duration": 27,
    "start_time": "2023-02-27T20:57:53.194Z"
   },
   {
    "duration": 13,
    "start_time": "2023-02-27T20:58:09.425Z"
   },
   {
    "duration": 38,
    "start_time": "2023-02-27T20:58:30.076Z"
   },
   {
    "duration": 151,
    "start_time": "2023-02-27T20:58:31.233Z"
   },
   {
    "duration": 15,
    "start_time": "2023-02-27T20:58:48.272Z"
   },
   {
    "duration": 4,
    "start_time": "2023-02-27T20:58:48.609Z"
   },
   {
    "duration": 3,
    "start_time": "2023-02-27T21:02:22.399Z"
   },
   {
    "duration": 4,
    "start_time": "2023-02-27T21:02:23.194Z"
   },
   {
    "duration": 7,
    "start_time": "2023-02-27T21:02:25.713Z"
   },
   {
    "duration": 8,
    "start_time": "2023-02-27T21:02:57.807Z"
   },
   {
    "duration": 6,
    "start_time": "2023-02-27T21:02:58.379Z"
   },
   {
    "duration": 48,
    "start_time": "2023-02-27T21:03:23.176Z"
   },
   {
    "duration": 61,
    "start_time": "2023-02-27T21:03:28.977Z"
   },
   {
    "duration": 50,
    "start_time": "2023-02-27T21:03:47.515Z"
   },
   {
    "duration": 38,
    "start_time": "2023-02-27T21:03:56.009Z"
   },
   {
    "duration": 106,
    "start_time": "2023-02-27T21:04:34.499Z"
   },
   {
    "duration": 4,
    "start_time": "2023-02-27T21:05:02.298Z"
   },
   {
    "duration": 37,
    "start_time": "2023-02-27T21:05:02.838Z"
   },
   {
    "duration": 11,
    "start_time": "2023-02-27T21:05:27.559Z"
   },
   {
    "duration": 4,
    "start_time": "2023-02-27T21:05:27.894Z"
   },
   {
    "duration": 37,
    "start_time": "2023-02-27T21:05:31.073Z"
   },
   {
    "duration": 161,
    "start_time": "2023-02-27T21:07:06.468Z"
   },
   {
    "duration": 29,
    "start_time": "2023-02-27T21:08:12.916Z"
   },
   {
    "duration": 7,
    "start_time": "2023-02-27T21:08:22.240Z"
   },
   {
    "duration": 9,
    "start_time": "2023-02-27T21:08:22.389Z"
   },
   {
    "duration": 34,
    "start_time": "2023-02-27T21:08:23.251Z"
   },
   {
    "duration": 85,
    "start_time": "2023-02-27T21:08:26.057Z"
   },
   {
    "duration": 12,
    "start_time": "2023-02-27T21:08:34.279Z"
   },
   {
    "duration": 22,
    "start_time": "2023-02-27T21:08:34.919Z"
   },
   {
    "duration": 6,
    "start_time": "2023-02-27T21:08:44.720Z"
   },
   {
    "duration": 7316,
    "start_time": "2023-02-27T21:08:45.720Z"
   },
   {
    "duration": 10,
    "start_time": "2023-02-27T21:09:51.047Z"
   },
   {
    "duration": 14,
    "start_time": "2023-02-27T21:09:51.549Z"
   },
   {
    "duration": 27,
    "start_time": "2023-02-27T21:09:52.231Z"
   },
   {
    "duration": 62,
    "start_time": "2023-02-27T21:09:52.412Z"
   },
   {
    "duration": 6,
    "start_time": "2023-02-27T21:09:53.665Z"
   },
   {
    "duration": 6496,
    "start_time": "2023-02-27T21:09:53.982Z"
   },
   {
    "duration": 1219,
    "start_time": "2023-02-27T21:10:04.203Z"
   },
   {
    "duration": 569,
    "start_time": "2023-02-27T21:10:05.425Z"
   },
   {
    "duration": 10,
    "start_time": "2023-02-27T21:10:05.997Z"
   },
   {
    "duration": 144,
    "start_time": "2023-02-27T21:10:06.009Z"
   },
   {
    "duration": 172,
    "start_time": "2023-02-27T21:10:06.154Z"
   },
   {
    "duration": 10,
    "start_time": "2023-02-27T21:10:06.328Z"
   },
   {
    "duration": 92,
    "start_time": "2023-02-27T21:10:06.341Z"
   },
   {
    "duration": 25,
    "start_time": "2023-02-27T21:10:06.435Z"
   },
   {
    "duration": 170,
    "start_time": "2023-02-27T21:10:06.466Z"
   },
   {
    "duration": 45,
    "start_time": "2023-02-27T21:10:06.639Z"
   },
   {
    "duration": 221,
    "start_time": "2023-02-27T21:10:06.686Z"
   },
   {
    "duration": 32,
    "start_time": "2023-02-27T21:10:06.950Z"
   },
   {
    "duration": 121,
    "start_time": "2023-02-27T21:10:07.008Z"
   },
   {
    "duration": 79,
    "start_time": "2023-02-27T21:10:07.131Z"
   },
   {
    "duration": 57,
    "start_time": "2023-02-27T21:10:07.212Z"
   },
   {
    "duration": 48,
    "start_time": "2023-02-27T21:10:07.273Z"
   },
   {
    "duration": 62,
    "start_time": "2023-02-27T21:10:07.323Z"
   },
   {
    "duration": 38,
    "start_time": "2023-02-27T21:10:07.389Z"
   },
   {
    "duration": 36,
    "start_time": "2023-02-27T21:10:07.429Z"
   },
   {
    "duration": 130,
    "start_time": "2023-02-27T21:10:07.469Z"
   },
   {
    "duration": 5,
    "start_time": "2023-02-27T21:10:07.603Z"
   },
   {
    "duration": 6277,
    "start_time": "2023-02-27T21:10:07.610Z"
   },
   {
    "duration": 11,
    "start_time": "2023-02-27T21:12:12.748Z"
   },
   {
    "duration": 159,
    "start_time": "2023-02-27T21:12:17.107Z"
   },
   {
    "duration": 4,
    "start_time": "2023-02-27T21:12:30.500Z"
   },
   {
    "duration": 27,
    "start_time": "2023-02-27T21:12:31.116Z"
   },
   {
    "duration": 7,
    "start_time": "2023-02-27T21:13:51.472Z"
   },
   {
    "duration": 605,
    "start_time": "2023-02-27T21:13:53.838Z"
   },
   {
    "duration": 16,
    "start_time": "2023-02-27T21:13:54.445Z"
   },
   {
    "duration": 91,
    "start_time": "2023-02-27T21:13:54.942Z"
   },
   {
    "duration": 159,
    "start_time": "2023-02-27T21:14:03.107Z"
   },
   {
    "duration": 14,
    "start_time": "2023-02-27T21:14:05.681Z"
   },
   {
    "duration": 25,
    "start_time": "2023-02-27T21:14:08.615Z"
   },
   {
    "duration": 12,
    "start_time": "2023-02-27T21:14:11.919Z"
   },
   {
    "duration": 39,
    "start_time": "2023-02-27T21:14:14.499Z"
   },
   {
    "duration": 28,
    "start_time": "2023-02-27T21:14:21.692Z"
   },
   {
    "duration": 249,
    "start_time": "2023-02-27T21:14:23.699Z"
   },
   {
    "duration": 10,
    "start_time": "2023-02-27T21:14:26.492Z"
   },
   {
    "duration": 12,
    "start_time": "2023-02-27T21:14:30.392Z"
   },
   {
    "duration": 16,
    "start_time": "2023-02-27T21:14:35.384Z"
   },
   {
    "duration": 11,
    "start_time": "2023-02-27T21:14:45.280Z"
   },
   {
    "duration": 8,
    "start_time": "2023-02-27T21:14:48.405Z"
   },
   {
    "duration": 13,
    "start_time": "2023-02-27T21:15:11.681Z"
   },
   {
    "duration": 11,
    "start_time": "2023-02-27T21:15:22.777Z"
   },
   {
    "duration": 31,
    "start_time": "2023-02-27T21:15:28.944Z"
   },
   {
    "duration": 23,
    "start_time": "2023-02-27T21:15:50.918Z"
   },
   {
    "duration": 68,
    "start_time": "2023-02-27T21:15:51.110Z"
   },
   {
    "duration": 6,
    "start_time": "2023-02-27T21:21:33.701Z"
   },
   {
    "duration": 5910,
    "start_time": "2023-02-27T21:21:34.346Z"
   },
   {
    "duration": 5,
    "start_time": "2023-02-27T21:26:13.209Z"
   },
   {
    "duration": 6010,
    "start_time": "2023-02-27T21:26:14.303Z"
   },
   {
    "duration": 10,
    "start_time": "2023-02-27T21:26:41.045Z"
   },
   {
    "duration": 5991,
    "start_time": "2023-02-27T21:26:42.932Z"
   },
   {
    "duration": 4,
    "start_time": "2023-02-27T21:28:28.231Z"
   },
   {
    "duration": 4,
    "start_time": "2023-02-27T21:28:52.614Z"
   },
   {
    "duration": 531,
    "start_time": "2023-02-27T21:28:55.019Z"
   },
   {
    "duration": 5,
    "start_time": "2023-02-27T21:28:56.083Z"
   },
   {
    "duration": 129,
    "start_time": "2023-02-27T21:28:57.013Z"
   },
   {
    "duration": 12,
    "start_time": "2023-02-27T21:28:58.104Z"
   },
   {
    "duration": 25,
    "start_time": "2023-02-27T21:28:58.297Z"
   },
   {
    "duration": 190,
    "start_time": "2023-02-27T21:29:05.518Z"
   },
   {
    "duration": 20,
    "start_time": "2023-02-27T21:29:09.116Z"
   },
   {
    "duration": 28,
    "start_time": "2023-02-27T21:29:09.278Z"
   },
   {
    "duration": 27,
    "start_time": "2023-02-27T21:29:09.443Z"
   },
   {
    "duration": 26,
    "start_time": "2023-02-27T21:29:26.738Z"
   },
   {
    "duration": 50,
    "start_time": "2023-02-27T21:29:32.637Z"
   },
   {
    "duration": 10,
    "start_time": "2023-02-27T21:29:33.212Z"
   },
   {
    "duration": 87,
    "start_time": "2023-02-27T21:29:33.612Z"
   },
   {
    "duration": 29,
    "start_time": "2023-02-27T21:29:49.623Z"
   },
   {
    "duration": 259,
    "start_time": "2023-02-27T21:29:54.036Z"
   },
   {
    "duration": 9,
    "start_time": "2023-02-27T21:29:57.628Z"
   },
   {
    "duration": 5,
    "start_time": "2023-02-27T21:29:59.512Z"
   },
   {
    "duration": 3,
    "start_time": "2023-02-27T21:30:04.134Z"
   },
   {
    "duration": 4,
    "start_time": "2023-02-27T21:30:06.412Z"
   },
   {
    "duration": 7,
    "start_time": "2023-02-27T21:30:08.040Z"
   },
   {
    "duration": 14,
    "start_time": "2023-02-27T21:30:11.092Z"
   },
   {
    "duration": 6,
    "start_time": "2023-02-27T21:30:20.812Z"
   },
   {
    "duration": 26,
    "start_time": "2023-02-27T21:30:25.812Z"
   },
   {
    "duration": 55,
    "start_time": "2023-02-27T21:30:27.589Z"
   },
   {
    "duration": 6,
    "start_time": "2023-02-27T21:30:34.344Z"
   },
   {
    "duration": 5407,
    "start_time": "2023-02-27T21:30:39.236Z"
   },
   {
    "duration": 8,
    "start_time": "2023-02-27T21:30:52.200Z"
   },
   {
    "duration": 5658,
    "start_time": "2023-02-27T21:30:52.542Z"
   },
   {
    "duration": 147,
    "start_time": "2023-02-27T21:33:22.278Z"
   },
   {
    "duration": 2816,
    "start_time": "2023-02-27T21:34:35.615Z"
   },
   {
    "duration": 649,
    "start_time": "2023-02-27T21:34:49.632Z"
   },
   {
    "duration": 1651,
    "start_time": "2023-02-27T21:39:44.007Z"
   },
   {
    "duration": 532,
    "start_time": "2023-02-27T21:39:45.661Z"
   },
   {
    "duration": 8,
    "start_time": "2023-02-27T21:39:46.195Z"
   },
   {
    "duration": 90,
    "start_time": "2023-02-27T21:39:46.205Z"
   },
   {
    "duration": 16,
    "start_time": "2023-02-27T21:39:46.300Z"
   },
   {
    "duration": 23,
    "start_time": "2023-02-27T21:39:46.318Z"
   },
   {
    "duration": 189,
    "start_time": "2023-02-27T21:39:46.344Z"
   },
   {
    "duration": 35,
    "start_time": "2023-02-27T21:39:46.536Z"
   },
   {
    "duration": 58,
    "start_time": "2023-02-27T21:39:46.575Z"
   },
   {
    "duration": 28,
    "start_time": "2023-02-27T21:39:46.638Z"
   },
   {
    "duration": 44,
    "start_time": "2023-02-27T21:39:46.668Z"
   },
   {
    "duration": 55,
    "start_time": "2023-02-27T21:39:46.714Z"
   },
   {
    "duration": 84,
    "start_time": "2023-02-27T21:39:46.771Z"
   },
   {
    "duration": 110,
    "start_time": "2023-02-27T21:39:46.862Z"
   },
   {
    "duration": 50,
    "start_time": "2023-02-27T21:39:46.974Z"
   },
   {
    "duration": 270,
    "start_time": "2023-02-27T21:39:47.026Z"
   },
   {
    "duration": 63,
    "start_time": "2023-02-27T21:39:47.308Z"
   },
   {
    "duration": 53,
    "start_time": "2023-02-27T21:39:47.373Z"
   },
   {
    "duration": 6,
    "start_time": "2023-02-27T21:39:47.428Z"
   },
   {
    "duration": 13,
    "start_time": "2023-02-27T21:39:47.435Z"
   },
   {
    "duration": 53,
    "start_time": "2023-02-27T21:39:47.450Z"
   },
   {
    "duration": 20,
    "start_time": "2023-02-27T21:39:47.506Z"
   },
   {
    "duration": 10,
    "start_time": "2023-02-27T21:39:47.529Z"
   },
   {
    "duration": 39,
    "start_time": "2023-02-27T21:39:47.540Z"
   },
   {
    "duration": 73,
    "start_time": "2023-02-27T21:39:47.581Z"
   },
   {
    "duration": 12,
    "start_time": "2023-02-27T21:39:47.655Z"
   },
   {
    "duration": 4959,
    "start_time": "2023-02-27T21:39:47.668Z"
   },
   {
    "duration": 136,
    "start_time": "2023-02-27T21:40:39.303Z"
   },
   {
    "duration": 179,
    "start_time": "2023-02-27T21:40:53.694Z"
   },
   {
    "duration": 7,
    "start_time": "2023-02-27T21:40:54.715Z"
   },
   {
    "duration": 16,
    "start_time": "2023-02-27T21:40:54.784Z"
   },
   {
    "duration": 3,
    "start_time": "2023-02-27T21:40:55.315Z"
   },
   {
    "duration": 4,
    "start_time": "2023-02-27T21:40:55.440Z"
   },
   {
    "duration": 7,
    "start_time": "2023-02-27T21:40:55.539Z"
   },
   {
    "duration": 5,
    "start_time": "2023-02-27T21:40:55.835Z"
   },
   {
    "duration": 24,
    "start_time": "2023-02-27T21:40:55.878Z"
   },
   {
    "duration": 19,
    "start_time": "2023-02-27T21:40:56.016Z"
   },
   {
    "duration": 81,
    "start_time": "2023-02-27T21:40:56.038Z"
   },
   {
    "duration": 4,
    "start_time": "2023-02-27T21:40:56.238Z"
   },
   {
    "duration": 4985,
    "start_time": "2023-02-27T21:40:56.273Z"
   },
   {
    "duration": 6,
    "start_time": "2023-02-27T21:41:04.087Z"
   },
   {
    "duration": 4887,
    "start_time": "2023-02-27T21:41:04.493Z"
   },
   {
    "duration": 5360,
    "start_time": "2023-02-27T21:41:12.088Z"
   },
   {
    "duration": 5343,
    "start_time": "2023-02-27T21:42:15.443Z"
   },
   {
    "duration": 5,
    "start_time": "2023-02-27T21:42:45.328Z"
   },
   {
    "duration": 5937,
    "start_time": "2023-02-27T21:42:45.792Z"
   },
   {
    "duration": 5,
    "start_time": "2023-02-27T21:42:55.031Z"
   },
   {
    "duration": 5006,
    "start_time": "2023-02-27T21:42:56.106Z"
   },
   {
    "duration": 13,
    "start_time": "2023-02-27T21:45:36.486Z"
   },
   {
    "duration": 11,
    "start_time": "2023-02-27T21:45:58.484Z"
   },
   {
    "duration": 5279,
    "start_time": "2023-02-27T21:45:59.864Z"
   },
   {
    "duration": 15,
    "start_time": "2023-02-27T21:46:07.576Z"
   },
   {
    "duration": 4884,
    "start_time": "2023-02-27T21:46:08.113Z"
   },
   {
    "duration": 6,
    "start_time": "2023-02-27T21:46:15.606Z"
   },
   {
    "duration": 5091,
    "start_time": "2023-02-27T21:46:16.006Z"
   },
   {
    "duration": 1332,
    "start_time": "2023-02-27T21:47:57.240Z"
   },
   {
    "duration": 485,
    "start_time": "2023-02-27T21:47:58.575Z"
   },
   {
    "duration": 4,
    "start_time": "2023-02-27T21:47:59.062Z"
   },
   {
    "duration": 138,
    "start_time": "2023-02-27T21:47:59.073Z"
   },
   {
    "duration": 8,
    "start_time": "2023-02-27T21:47:59.217Z"
   },
   {
    "duration": 17,
    "start_time": "2023-02-27T21:47:59.227Z"
   },
   {
    "duration": 229,
    "start_time": "2023-02-27T21:47:59.246Z"
   },
   {
    "duration": 27,
    "start_time": "2023-02-27T21:47:59.477Z"
   },
   {
    "duration": 48,
    "start_time": "2023-02-27T21:47:59.507Z"
   },
   {
    "duration": 24,
    "start_time": "2023-02-27T21:47:59.561Z"
   },
   {
    "duration": 26,
    "start_time": "2023-02-27T21:47:59.592Z"
   },
   {
    "duration": 36,
    "start_time": "2023-02-27T21:47:59.621Z"
   },
   {
    "duration": 56,
    "start_time": "2023-02-27T21:47:59.659Z"
   },
   {
    "duration": 72,
    "start_time": "2023-02-27T21:47:59.717Z"
   },
   {
    "duration": 37,
    "start_time": "2023-02-27T21:47:59.793Z"
   },
   {
    "duration": 157,
    "start_time": "2023-02-27T21:47:59.831Z"
   },
   {
    "duration": 71,
    "start_time": "2023-02-27T21:47:59.995Z"
   },
   {
    "duration": 128,
    "start_time": "2023-02-27T21:48:00.077Z"
   },
   {
    "duration": 7,
    "start_time": "2023-02-27T21:48:00.207Z"
   },
   {
    "duration": 12,
    "start_time": "2023-02-27T21:48:00.216Z"
   },
   {
    "duration": 35,
    "start_time": "2023-02-27T21:48:00.230Z"
   },
   {
    "duration": 56,
    "start_time": "2023-02-27T21:48:00.268Z"
   },
   {
    "duration": 12,
    "start_time": "2023-02-27T21:48:00.327Z"
   },
   {
    "duration": 30,
    "start_time": "2023-02-27T21:48:00.341Z"
   },
   {
    "duration": 82,
    "start_time": "2023-02-27T21:48:00.374Z"
   },
   {
    "duration": 11,
    "start_time": "2023-02-27T21:48:00.462Z"
   },
   {
    "duration": 5103,
    "start_time": "2023-02-27T21:48:00.475Z"
   }
  ],
  "kernelspec": {
   "display_name": "Python 3 (ipykernel)",
   "language": "python",
   "name": "python3"
  },
  "language_info": {
   "codemirror_mode": {
    "name": "ipython",
    "version": 3
   },
   "file_extension": ".py",
   "mimetype": "text/x-python",
   "name": "python",
   "nbconvert_exporter": "python",
   "pygments_lexer": "ipython3",
   "version": "3.9.5"
  },
  "toc": {
   "base_numbering": 1,
   "nav_menu": {},
   "number_sections": true,
   "sideBar": true,
   "skip_h1_title": false,
   "title_cell": "Выбор локации для скважины",
   "title_sidebar": "Contents",
   "toc_cell": true,
   "toc_position": {},
   "toc_section_display": true,
   "toc_window_display": false
  }
 },
 "nbformat": 4,
 "nbformat_minor": 5
}
